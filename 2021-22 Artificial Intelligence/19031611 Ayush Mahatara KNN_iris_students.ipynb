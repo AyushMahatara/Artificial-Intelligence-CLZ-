{
 "cells": [
  {
   "cell_type": "markdown",
   "metadata": {
    "id": "TBPbUB7TuJGu"
   },
   "source": [
    "### For implementing the KNN algorithm for classification, we will be using the Iris-Flower dataset. \n",
    "\n",
    "Each example in the dataset has 4 attributes:\n",
    "1. sepal length in cm \n",
    "2. sepal width in cm \n",
    "3. petal length in cm \n",
    "4. petal width in cm \n",
    "\n",
    "So each example is 4-dimentional. The dataset has 3 classes:\n",
    "1. Iris Setosa \n",
    "2. Iris Versicolour \n",
    "3. Iris Virginica\n",
    "\n",
    "So each example falls into one of the 3 above mentioned classes. The classification task here is no longer a __binary classification problem__ but a __multi-class classification problem__. You can read more about the dataset at: https://archive.ics.uci.edu/ml/datasets/iris"
   ]
  },
  {
   "cell_type": "code",
   "execution_count": null,
   "metadata": {},
   "outputs": [],
   "source": []
  },
  {
   "cell_type": "code",
   "execution_count": 14,
   "metadata": {},
   "outputs": [
    {
     "name": "stdout",
     "output_type": "stream",
     "text": [
      "Collecting package metadata (current_repodata.json): ...working... done\n",
      "Solving environment: ...working... done\n",
      "\n",
      "# All requested packages already installed.\n",
      "\n",
      "\n",
      "Note: you may need to restart the kernel to use updated packages.\n"
     ]
    }
   ],
   "source": [
    "conda install scikit-learn"
   ]
  },
  {
   "cell_type": "code",
   "execution_count": 15,
   "metadata": {
    "colab": {
     "base_uri": "https://localhost:8080/",
     "height": 34
    },
    "executionInfo": {
     "elapsed": 2110,
     "status": "ok",
     "timestamp": 1574997933285,
     "user": {
      "displayName": "Weenit Maharjan",
      "photoUrl": "",
      "userId": "06715628186139331666"
     },
     "user_tz": -345
    },
    "id": "ETdFcDbtuJGx",
    "outputId": "2a993f3e-9839-4ffd-d15f-9204ff0e7ed3"
   },
   "outputs": [
    {
     "name": "stdout",
     "output_type": "stream",
     "text": [
      "150\n"
     ]
    }
   ],
   "source": [
    "from sklearn.datasets import load_iris \n",
    "from sklearn.model_selection import train_test_split\n",
    "import numpy as np\n",
    "\n",
    "data = load_iris() #load the iris dataset\n",
    "X = data.data\n",
    "y = data.target\n",
    "print(len(X)) #print number of examples"
   ]
  },
  {
   "cell_type": "code",
   "execution_count": 16,
   "metadata": {
    "id": "uN60A8JZuJG1"
   },
   "outputs": [],
   "source": [
    "#split into train set and test set first by using the library function, 20% of the data goes to the test set\n",
    "X_train, X_test, y_train, y_test = train_test_split(X,y,test_size=0.2) "
   ]
  },
  {
   "cell_type": "code",
   "execution_count": 17,
   "metadata": {
    "colab": {
     "base_uri": "https://localhost:8080/",
     "height": 34
    },
    "executionInfo": {
     "elapsed": 1366,
     "status": "ok",
     "timestamp": 1574997945572,
     "user": {
      "displayName": "Weenit Maharjan",
      "photoUrl": "",
      "userId": "06715628186139331666"
     },
     "user_tz": -345
    },
    "id": "ZxP5Iu9DuJG3",
    "outputId": "863b0d04-bb7a-472d-d262-3814377de140"
   },
   "outputs": [
    {
     "name": "stdout",
     "output_type": "stream",
     "text": [
      "120 30\n"
     ]
    }
   ],
   "source": [
    "print(len(X_train),len(X_test)) #number of examples in the train and test set"
   ]
  },
  {
   "cell_type": "code",
   "execution_count": 18,
   "metadata": {
    "id": "6yKClZ9luJG6"
   },
   "outputs": [],
   "source": [
    "#split the training set again into training and vaidation set by using the library function, \n",
    "#with 20% of the training set examples going inside the validation set\n",
    "X_train, X_validation, y_train, y_validation = train_test_split(X_train,y_train,test_size=0.2) "
   ]
  },
  {
   "cell_type": "code",
   "execution_count": 19,
   "metadata": {
    "colab": {
     "base_uri": "https://localhost:8080/",
     "height": 34
    },
    "executionInfo": {
     "elapsed": 987,
     "status": "ok",
     "timestamp": 1574997947609,
     "user": {
      "displayName": "Weenit Maharjan",
      "photoUrl": "",
      "userId": "06715628186139331666"
     },
     "user_tz": -345
    },
    "id": "xhAB5vgluJG9",
    "outputId": "cee14826-a9df-4f39-d377-40b62440cece"
   },
   "outputs": [
    {
     "name": "stdout",
     "output_type": "stream",
     "text": [
      "96 24 30\n"
     ]
    }
   ],
   "source": [
    "print(len(X_train),len(X_validation),len(X_test)) #number of examples in the train, validation and test set"
   ]
  },
  {
   "cell_type": "markdown",
   "metadata": {
    "id": "Q-NsFa4JuJHA"
   },
   "source": [
    "## Use scikit-learn to build the KNN model"
   ]
  },
  {
   "cell_type": "code",
   "execution_count": 20,
   "metadata": {
    "id": "2gc5Xp5puJHB"
   },
   "outputs": [],
   "source": [
    "from sklearn.neighbors import KNeighborsClassifier as KNN\n",
    "from sklearn.metrics import accuracy_score"
   ]
  },
  {
   "cell_type": "code",
   "execution_count": 21,
   "metadata": {
    "colab": {
     "base_uri": "https://localhost:8080/",
     "height": 34
    },
    "executionInfo": {
     "elapsed": 894,
     "status": "ok",
     "timestamp": 1574997950899,
     "user": {
      "displayName": "Weenit Maharjan",
      "photoUrl": "",
      "userId": "06715628186139331666"
     },
     "user_tz": -345
    },
    "id": "Blwi8S7HuJHE",
    "outputId": "c1973216-0a9a-4523-b951-971b5e7f8847"
   },
   "outputs": [
    {
     "name": "stdout",
     "output_type": "stream",
     "text": [
      "1.0\n"
     ]
    }
   ],
   "source": [
    "K = 3 #number of neighbors\n",
    "model = KNN(n_neighbors=K) #initialize KNN model with n as the number of neighbors\n",
    "model.fit(X_train,y_train) #fit the model/train the model\n",
    "predictions = model.predict(X_validation) #test #get the predictions for all examples in the validation set\n",
    "accuracy = accuracy_score(predictions,y_validation)#test #get the accuaracy on the validation set by using the built in function accuracy score\n",
    "print(accuracy)"
   ]
  },
  {
   "cell_type": "markdown",
   "metadata": {
    "id": "vlLcT4eeuJHH"
   },
   "source": [
    "## Do it yourself\n",
    "You can see that using __K = 3__, results in a fairly good accuracy in the validation set, but it may not be the optimal value. What you need to do now is to find out the best value for K from a set of values which you must define yourself. Run the above process for each value of K and find out which value of K gives the maximum accuracy on the validation set. \n",
    "\n",
    "Then by using the best value for K, calculate the overall accuracy of the model on the test set."
   ]
  },
  {
   "cell_type": "code",
   "execution_count": 36,
   "metadata": {
    "id": "osju94RGuJHH"
   },
   "outputs": [],
   "source": [
    "Ka=20\n",
    "accuracy=np.zeros((Ka-1))\n",
    "\n",
    "#training and prediction\n",
    "\n",
    "for n in range(1,Ka):\n",
    "    model = KNN(n_neighbors=n) #initialization of KNN model with n number of neighbors\n",
    "model.fit(X_train,y_train) #fit the model/train the model\n",
    "predictions = model.predict(X_validation) #to get the predictions in the validation set\n",
    "accuracy[n-1] = accuracy_score(predictions,y_validation) #to get the accuaracy on the validation set"
   ]
  },
  {
   "cell_type": "code",
   "execution_count": 37,
   "metadata": {},
   "outputs": [
    {
     "name": "stdout",
     "output_type": "stream",
     "text": [
      "The best accuray is 1.0 with the value of K=  18\n"
     ]
    }
   ],
   "source": [
    "print(\"The best accuray is\", accuracy.max(),\"with the value of K= \", accuracy.argmax())"
   ]
  },
  {
   "cell_type": "code",
   "execution_count": 38,
   "metadata": {},
   "outputs": [
    {
     "name": "stdout",
     "output_type": "stream",
     "text": [
      "1.0\n"
     ]
    }
   ],
   "source": [
    "#using k = 8\n",
    "K = 3 #number of neighbors\n",
    "model = KNN(n_neighbors=K) #initialization of KNN model with n number of neighbors\n",
    "model.fit(X_train,y_train) #fit the model/train the model\n",
    "predictions = model.predict(X_validation) #to get the predictions in the validation set\n",
    "accuracy = accuracy_score(predictions,y_validation) #get the accuaracy on the validation set\n",
    "print(accuracy)"
   ]
  },
  {
   "cell_type": "code",
   "execution_count": null,
   "metadata": {},
   "outputs": [],
   "source": []
  }
 ],
 "metadata": {
  "colab": {
   "name": "KNN_iris_students.ipynb",
   "provenance": []
  },
  "kernelspec": {
   "display_name": "Python 3 (ipykernel)",
   "language": "python",
   "name": "python3"
  },
  "language_info": {
   "codemirror_mode": {
    "name": "ipython",
    "version": 3
   },
   "file_extension": ".py",
   "mimetype": "text/x-python",
   "name": "python",
   "nbconvert_exporter": "python",
   "pygments_lexer": "ipython3",
   "version": "3.9.7"
  }
 },
 "nbformat": 4,
 "nbformat_minor": 1
}
